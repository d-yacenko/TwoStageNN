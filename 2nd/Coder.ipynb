{
 "cells": [
  {
   "cell_type": "markdown",
   "id": "89290d79-7ba0-434a-9b4d-23adeac4301e",
   "metadata": {},
   "source": [
    "# First_stage\n",
    "image to vector"
   ]
  },
  {
   "cell_type": "code",
   "execution_count": 1,
   "id": "5048407c-8742-4f26-b777-b2b9d8904b27",
   "metadata": {},
   "outputs": [],
   "source": [
    "from __future__ import print_function, division\n",
    "\n",
    "import torch\n",
    "import torch.nn as nn\n",
    "import torch.optim as optim\n",
    "from torch.optim import lr_scheduler\n",
    "import numpy as np\n",
    "import torchvision\n",
    "from torchvision import datasets, models, transforms\n",
    "from torchsummary import summary\n",
    "import matplotlib.pyplot as plt\n",
    "import time\n",
    "import os\n",
    "import copy\n",
    "import random\n",
    "import PIL.ImageOps\n",
    "from PIL import ImageMath,Image\n",
    "from torch.utils.data import Dataset, DataLoader\n",
    "\n",
    "\n",
    "random.seed(0)\n",
    "np.random.seed(0)\n",
    "torch.manual_seed(0)\n",
    "torch.cuda.manual_seed(0)\n",
    "torch.backends.cudnn.deterministic = True"
   ]
  },
  {
   "cell_type": "code",
   "execution_count": 2,
   "id": "c0391e3b-dc8a-455d-b1bc-0807b429d876",
   "metadata": {},
   "outputs": [
    {
     "name": "stderr",
     "output_type": "stream",
     "text": [
      "/usr/local/lib/python3.6/dist-packages/torch/serialization.py:604: UserWarning: 'torch.load' received a zip file that looks like a TorchScript archive dispatching to 'torch.jit.load' (call 'torch.jit.load' directly to silence this warning)\n",
      "  \" silence this warning)\", UserWarning)\n"
     ]
    },
    {
     "data": {
      "text/plain": [
       "RecursiveScriptModule(\n",
       "  original_name=Sequential\n",
       "  (0): RecursiveScriptModule(\n",
       "    original_name=Sequential\n",
       "    (conv1): RecursiveScriptModule(original_name=Conv2d)\n",
       "    (bn1): RecursiveScriptModule(original_name=BatchNorm2d)\n",
       "    (relu): RecursiveScriptModule(original_name=ReLU)\n",
       "    (maxpool): RecursiveScriptModule(original_name=MaxPool2d)\n",
       "    (layer1): RecursiveScriptModule(\n",
       "      original_name=Sequential\n",
       "      (0): RecursiveScriptModule(\n",
       "        original_name=BasicBlock\n",
       "        (conv1): RecursiveScriptModule(original_name=Conv2d)\n",
       "        (bn1): RecursiveScriptModule(original_name=BatchNorm2d)\n",
       "        (relu): RecursiveScriptModule(original_name=ReLU)\n",
       "        (conv2): RecursiveScriptModule(original_name=Conv2d)\n",
       "        (bn2): RecursiveScriptModule(original_name=BatchNorm2d)\n",
       "      )\n",
       "      (1): RecursiveScriptModule(\n",
       "        original_name=BasicBlock\n",
       "        (conv1): RecursiveScriptModule(original_name=Conv2d)\n",
       "        (bn1): RecursiveScriptModule(original_name=BatchNorm2d)\n",
       "        (relu): RecursiveScriptModule(original_name=ReLU)\n",
       "        (conv2): RecursiveScriptModule(original_name=Conv2d)\n",
       "        (bn2): RecursiveScriptModule(original_name=BatchNorm2d)\n",
       "      )\n",
       "    )\n",
       "    (layer2): RecursiveScriptModule(\n",
       "      original_name=Sequential\n",
       "      (0): RecursiveScriptModule(\n",
       "        original_name=BasicBlock\n",
       "        (conv1): RecursiveScriptModule(original_name=Conv2d)\n",
       "        (bn1): RecursiveScriptModule(original_name=BatchNorm2d)\n",
       "        (relu): RecursiveScriptModule(original_name=ReLU)\n",
       "        (conv2): RecursiveScriptModule(original_name=Conv2d)\n",
       "        (bn2): RecursiveScriptModule(original_name=BatchNorm2d)\n",
       "        (downsample): RecursiveScriptModule(\n",
       "          original_name=Sequential\n",
       "          (0): RecursiveScriptModule(original_name=Conv2d)\n",
       "          (1): RecursiveScriptModule(original_name=BatchNorm2d)\n",
       "        )\n",
       "      )\n",
       "      (1): RecursiveScriptModule(\n",
       "        original_name=BasicBlock\n",
       "        (conv1): RecursiveScriptModule(original_name=Conv2d)\n",
       "        (bn1): RecursiveScriptModule(original_name=BatchNorm2d)\n",
       "        (relu): RecursiveScriptModule(original_name=ReLU)\n",
       "        (conv2): RecursiveScriptModule(original_name=Conv2d)\n",
       "        (bn2): RecursiveScriptModule(original_name=BatchNorm2d)\n",
       "      )\n",
       "    )\n",
       "    (layer3): RecursiveScriptModule(\n",
       "      original_name=Sequential\n",
       "      (0): RecursiveScriptModule(\n",
       "        original_name=BasicBlock\n",
       "        (conv1): RecursiveScriptModule(original_name=Conv2d)\n",
       "        (bn1): RecursiveScriptModule(original_name=BatchNorm2d)\n",
       "        (relu): RecursiveScriptModule(original_name=ReLU)\n",
       "        (conv2): RecursiveScriptModule(original_name=Conv2d)\n",
       "        (bn2): RecursiveScriptModule(original_name=BatchNorm2d)\n",
       "        (downsample): RecursiveScriptModule(\n",
       "          original_name=Sequential\n",
       "          (0): RecursiveScriptModule(original_name=Conv2d)\n",
       "          (1): RecursiveScriptModule(original_name=BatchNorm2d)\n",
       "        )\n",
       "      )\n",
       "      (1): RecursiveScriptModule(\n",
       "        original_name=BasicBlock\n",
       "        (conv1): RecursiveScriptModule(original_name=Conv2d)\n",
       "        (bn1): RecursiveScriptModule(original_name=BatchNorm2d)\n",
       "        (relu): RecursiveScriptModule(original_name=ReLU)\n",
       "        (conv2): RecursiveScriptModule(original_name=Conv2d)\n",
       "        (bn2): RecursiveScriptModule(original_name=BatchNorm2d)\n",
       "      )\n",
       "    )\n",
       "    (layer4): RecursiveScriptModule(\n",
       "      original_name=Sequential\n",
       "      (0): RecursiveScriptModule(\n",
       "        original_name=BasicBlock\n",
       "        (conv1): RecursiveScriptModule(original_name=Conv2d)\n",
       "        (bn1): RecursiveScriptModule(original_name=BatchNorm2d)\n",
       "        (relu): RecursiveScriptModule(original_name=ReLU)\n",
       "        (conv2): RecursiveScriptModule(original_name=Conv2d)\n",
       "        (bn2): RecursiveScriptModule(original_name=BatchNorm2d)\n",
       "        (downsample): RecursiveScriptModule(\n",
       "          original_name=Sequential\n",
       "          (0): RecursiveScriptModule(original_name=Conv2d)\n",
       "          (1): RecursiveScriptModule(original_name=BatchNorm2d)\n",
       "        )\n",
       "      )\n",
       "      (1): RecursiveScriptModule(\n",
       "        original_name=BasicBlock\n",
       "        (conv1): RecursiveScriptModule(original_name=Conv2d)\n",
       "        (bn1): RecursiveScriptModule(original_name=BatchNorm2d)\n",
       "        (relu): RecursiveScriptModule(original_name=ReLU)\n",
       "        (conv2): RecursiveScriptModule(original_name=Conv2d)\n",
       "        (bn2): RecursiveScriptModule(original_name=BatchNorm2d)\n",
       "      )\n",
       "    )\n",
       "  )\n",
       "  (1): RecursiveScriptModule(original_name=AdaptiveAvgPool2d)\n",
       "  (2): RecursiveScriptModule(original_name=Flatten)\n",
       ")"
      ]
     },
     "execution_count": 2,
     "metadata": {},
     "output_type": "execute_result"
    }
   ],
   "source": [
    "device = torch.device(\"cuda:0\" if torch.cuda.is_available() else \"cpu\")\n",
    "model = torch.load('base.pt')\n",
    "model.eval()\n",
    "# model.freeze()"
   ]
  },
  {
   "cell_type": "code",
   "execution_count": 3,
   "id": "09b42947-2d76-425f-8bc4-5a011cd89d79",
   "metadata": {},
   "outputs": [],
   "source": [
    "# summary(model, (3, 224, 224))"
   ]
  },
  {
   "cell_type": "code",
   "execution_count": 4,
   "id": "e40ffa19-b2b5-425c-950c-47c6f4e969e3",
   "metadata": {},
   "outputs": [],
   "source": [
    "# print(model)"
   ]
  },
  {
   "cell_type": "code",
   "execution_count": 5,
   "id": "64cca1dd-7044-4b85-8906-0c99d87729d4",
   "metadata": {},
   "outputs": [
    {
     "data": {
      "text/plain": [
       "RecursiveScriptModule(\n",
       "  original_name=Sequential\n",
       "  (0): RecursiveScriptModule(\n",
       "    original_name=Sequential\n",
       "    (conv1): RecursiveScriptModule(original_name=Conv2d)\n",
       "    (bn1): RecursiveScriptModule(original_name=BatchNorm2d)\n",
       "    (relu): RecursiveScriptModule(original_name=ReLU)\n",
       "    (maxpool): RecursiveScriptModule(original_name=MaxPool2d)\n",
       "    (layer1): RecursiveScriptModule(\n",
       "      original_name=Sequential\n",
       "      (0): RecursiveScriptModule(\n",
       "        original_name=BasicBlock\n",
       "        (conv1): RecursiveScriptModule(original_name=Conv2d)\n",
       "        (bn1): RecursiveScriptModule(original_name=BatchNorm2d)\n",
       "        (relu): RecursiveScriptModule(original_name=ReLU)\n",
       "        (conv2): RecursiveScriptModule(original_name=Conv2d)\n",
       "        (bn2): RecursiveScriptModule(original_name=BatchNorm2d)\n",
       "      )\n",
       "      (1): RecursiveScriptModule(\n",
       "        original_name=BasicBlock\n",
       "        (conv1): RecursiveScriptModule(original_name=Conv2d)\n",
       "        (bn1): RecursiveScriptModule(original_name=BatchNorm2d)\n",
       "        (relu): RecursiveScriptModule(original_name=ReLU)\n",
       "        (conv2): RecursiveScriptModule(original_name=Conv2d)\n",
       "        (bn2): RecursiveScriptModule(original_name=BatchNorm2d)\n",
       "      )\n",
       "    )\n",
       "    (layer2): RecursiveScriptModule(\n",
       "      original_name=Sequential\n",
       "      (0): RecursiveScriptModule(\n",
       "        original_name=BasicBlock\n",
       "        (conv1): RecursiveScriptModule(original_name=Conv2d)\n",
       "        (bn1): RecursiveScriptModule(original_name=BatchNorm2d)\n",
       "        (relu): RecursiveScriptModule(original_name=ReLU)\n",
       "        (conv2): RecursiveScriptModule(original_name=Conv2d)\n",
       "        (bn2): RecursiveScriptModule(original_name=BatchNorm2d)\n",
       "        (downsample): RecursiveScriptModule(\n",
       "          original_name=Sequential\n",
       "          (0): RecursiveScriptModule(original_name=Conv2d)\n",
       "          (1): RecursiveScriptModule(original_name=BatchNorm2d)\n",
       "        )\n",
       "      )\n",
       "      (1): RecursiveScriptModule(\n",
       "        original_name=BasicBlock\n",
       "        (conv1): RecursiveScriptModule(original_name=Conv2d)\n",
       "        (bn1): RecursiveScriptModule(original_name=BatchNorm2d)\n",
       "        (relu): RecursiveScriptModule(original_name=ReLU)\n",
       "        (conv2): RecursiveScriptModule(original_name=Conv2d)\n",
       "        (bn2): RecursiveScriptModule(original_name=BatchNorm2d)\n",
       "      )\n",
       "    )\n",
       "    (layer3): RecursiveScriptModule(\n",
       "      original_name=Sequential\n",
       "      (0): RecursiveScriptModule(\n",
       "        original_name=BasicBlock\n",
       "        (conv1): RecursiveScriptModule(original_name=Conv2d)\n",
       "        (bn1): RecursiveScriptModule(original_name=BatchNorm2d)\n",
       "        (relu): RecursiveScriptModule(original_name=ReLU)\n",
       "        (conv2): RecursiveScriptModule(original_name=Conv2d)\n",
       "        (bn2): RecursiveScriptModule(original_name=BatchNorm2d)\n",
       "        (downsample): RecursiveScriptModule(\n",
       "          original_name=Sequential\n",
       "          (0): RecursiveScriptModule(original_name=Conv2d)\n",
       "          (1): RecursiveScriptModule(original_name=BatchNorm2d)\n",
       "        )\n",
       "      )\n",
       "      (1): RecursiveScriptModule(\n",
       "        original_name=BasicBlock\n",
       "        (conv1): RecursiveScriptModule(original_name=Conv2d)\n",
       "        (bn1): RecursiveScriptModule(original_name=BatchNorm2d)\n",
       "        (relu): RecursiveScriptModule(original_name=ReLU)\n",
       "        (conv2): RecursiveScriptModule(original_name=Conv2d)\n",
       "        (bn2): RecursiveScriptModule(original_name=BatchNorm2d)\n",
       "      )\n",
       "    )\n",
       "    (layer4): RecursiveScriptModule(\n",
       "      original_name=Sequential\n",
       "      (0): RecursiveScriptModule(\n",
       "        original_name=BasicBlock\n",
       "        (conv1): RecursiveScriptModule(original_name=Conv2d)\n",
       "        (bn1): RecursiveScriptModule(original_name=BatchNorm2d)\n",
       "        (relu): RecursiveScriptModule(original_name=ReLU)\n",
       "        (conv2): RecursiveScriptModule(original_name=Conv2d)\n",
       "        (bn2): RecursiveScriptModule(original_name=BatchNorm2d)\n",
       "        (downsample): RecursiveScriptModule(\n",
       "          original_name=Sequential\n",
       "          (0): RecursiveScriptModule(original_name=Conv2d)\n",
       "          (1): RecursiveScriptModule(original_name=BatchNorm2d)\n",
       "        )\n",
       "      )\n",
       "      (1): RecursiveScriptModule(\n",
       "        original_name=BasicBlock\n",
       "        (conv1): RecursiveScriptModule(original_name=Conv2d)\n",
       "        (bn1): RecursiveScriptModule(original_name=BatchNorm2d)\n",
       "        (relu): RecursiveScriptModule(original_name=ReLU)\n",
       "        (conv2): RecursiveScriptModule(original_name=Conv2d)\n",
       "        (bn2): RecursiveScriptModule(original_name=BatchNorm2d)\n",
       "      )\n",
       "    )\n",
       "  )\n",
       "  (1): RecursiveScriptModule(original_name=AdaptiveAvgPool2d)\n",
       "  (2): RecursiveScriptModule(original_name=Flatten)\n",
       ")"
      ]
     },
     "execution_count": 5,
     "metadata": {},
     "output_type": "execute_result"
    }
   ],
   "source": [
    "model.to(device)"
   ]
  },
  {
   "cell_type": "code",
   "execution_count": 6,
   "id": "3625c3fb-6369-491d-96c5-efc7c6d6e877",
   "metadata": {},
   "outputs": [
    {
     "name": "stdout",
     "output_type": "stream",
     "text": [
      "camera created\n"
     ]
    }
   ],
   "source": [
    "from jetcam.usb_camera import USBCamera\n",
    "camera = USBCamera(width=224, height=224, capture_device=0) # confirm the capture_device number\n",
    "camera.running = True\n",
    "print(\"camera created\")"
   ]
  },
  {
   "cell_type": "code",
   "execution_count": 7,
   "id": "09f83eae-9ca9-4188-a80a-3dc64975aa11",
   "metadata": {},
   "outputs": [
    {
     "data": {
      "text/plain": [
       "<traitlets.traitlets.directional_link at 0x7ee2181e80>"
      ]
     },
     "execution_count": 7,
     "metadata": {},
     "output_type": "execute_result"
    }
   ],
   "source": [
    "import ipywidgets\n",
    "import traitlets\n",
    "from jetcam.utils import bgr8_to_jpeg\n",
    "camera.unobserve_all()\n",
    "camera_widget = ipywidgets.Image(layout = ipywidgets.Layout(width='212px'), description='cam preview:',)\n",
    "traitlets.dlink((camera, 'value'), (camera_widget, 'value'), transform=bgr8_to_jpeg)\n"
   ]
  },
  {
   "cell_type": "code",
   "execution_count": 8,
   "id": "45785ea1-e7b7-4ff8-838d-e3de37d50397",
   "metadata": {},
   "outputs": [],
   "source": [
    "from os import walk\n",
    "\n",
    "filenames = next(walk('test_images'), (None, None, []))[2] \n",
    "# print(filenames)"
   ]
  },
  {
   "cell_type": "code",
   "execution_count": 9,
   "id": "335c66bf-6bbf-4ad3-be9d-c87aac6d3368",
   "metadata": {},
   "outputs": [
    {
     "name": "stdout",
     "output_type": "stream",
     "text": [
      "live_execution_widget created\n"
     ]
    }
   ],
   "source": [
    "import threading\n",
    "import time\n",
    "import json\n",
    "import requests\n",
    "import base64\n",
    "from utils import preprocess\n",
    "import torch.nn.functional as F\n",
    "\n",
    "files_widget=ipywidgets.Select( options=filenames, description='image:',)\n",
    "sw_widget=ipywidgets.RadioButtons(options=['camera', 'photo'], description='image source:',)\n",
    "url_widget=ipywidgets.Text(description='server URL:',placeholder='http://127.0.0.1:8888/')\n",
    "state_widget = ipywidgets.ToggleButtons(options=['stop', 'live','exit'], description='state', value='stop')\n",
    "prediction_widget = ipywidgets.Text(description='time')\n",
    "\n",
    "def live(state_widget, model, camera, prediction_widget):\n",
    "    global dataset\n",
    "    while state_widget.value == 'live':\n",
    "        if sw_widget.value == 'camera':\n",
    "            image = camera.value\n",
    "        else:\n",
    "            image = np.array(Image.open('test_images/'+files_widget.value))\n",
    "        preprocessed = preprocess(image)\n",
    "        # prediction_widget.value = str(preprocessed[0][0][0])\n",
    "        since = time.time()\n",
    "        output = model(preprocessed)\n",
    "        output = output.detach().cpu().numpy()\n",
    "        output=json.dumps([str(output.dtype), base64.b64encode(output).decode('latin1'), output.shape])\n",
    "        for url_ in url_widget.value.split(','):\n",
    "            try:\n",
    "                r = requests.post(url=url_,data={'tensor': output},timeout=0.05)\n",
    "            except Exception:\n",
    "                pass\n",
    "        time_elapsed = time.time() - since\n",
    "        prediction_widget.value = str(time_elapsed)\n",
    "            \n",
    "def start_live(change):\n",
    "    if change['new'] == 'live':\n",
    "        execute_thread = threading.Thread(target=live, args=(state_widget, model, camera, prediction_widget))\n",
    "        execute_thread.start()\n",
    "    elif change['new'] == 'exit': \n",
    "        import os\n",
    "        os._exit(00)\n",
    "\n",
    "state_widget.observe(start_live, names='value')\n",
    "\n",
    "live_execution_widget = ipywidgets.VBox([\n",
    "    sw_widget,\n",
    "    files_widget,\n",
    "    camera_widget,\n",
    "    url_widget,\n",
    "    prediction_widget,\n",
    "    state_widget\n",
    "])\n",
    "\n",
    "# display(live_execution_widget)\n",
    "print(\"live_execution_widget created\")"
   ]
  },
  {
   "cell_type": "code",
   "execution_count": 10,
   "id": "a695e01e-411a-49dd-8b99-e6978fe197f9",
   "metadata": {},
   "outputs": [
    {
     "data": {
      "application/vnd.jupyter.widget-view+json": {
       "model_id": "f7c50dcc449d4f22bd7535e6ccd79e04",
       "version_major": 2,
       "version_minor": 0
      },
      "text/plain": [
       "VBox(children=(RadioButtons(description='image source:', options=('camera', 'photo'), value='camera'), Select(…"
      ]
     },
     "metadata": {},
     "output_type": "display_data"
    }
   ],
   "source": [
    "\n",
    "display(live_execution_widget)"
   ]
  },
  {
   "cell_type": "code",
   "execution_count": null,
   "id": "82caefa2-088e-4b27-8e86-7e647ec4781a",
   "metadata": {},
   "outputs": [],
   "source": []
  }
 ],
 "metadata": {
  "kernelspec": {
   "display_name": "Python 3",
   "language": "python",
   "name": "python3"
  },
  "language_info": {
   "codemirror_mode": {
    "name": "ipython",
    "version": 3
   },
   "file_extension": ".py",
   "mimetype": "text/x-python",
   "name": "python",
   "nbconvert_exporter": "python",
   "pygments_lexer": "ipython3",
   "version": "3.6.9"
  }
 },
 "nbformat": 4,
 "nbformat_minor": 5
}
