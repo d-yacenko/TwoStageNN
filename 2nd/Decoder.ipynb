{
 "cells": [
  {
   "cell_type": "code",
   "execution_count": 1,
   "id": "155d6e7d-9820-4f3d-9d7a-139e6f083740",
   "metadata": {},
   "outputs": [],
   "source": [
    "# Python 3 server example\n",
    "from http.server import BaseHTTPRequestHandler, HTTPServer\n",
    "from io import BytesIO\n",
    "from tempfile import SpooledTemporaryFile\n",
    "from cgi import FieldStorage\n",
    "import sys, os\n",
    "from PIL import Image \n",
    "import threading\n",
    "import time\n",
    "import matplotlib.pyplot as plt\n",
    "import io\n",
    "import json\n",
    "import urllib \n",
    "import base64\n",
    "import random\n",
    "import numpy as np\n",
    "import torch\n",
    "\n",
    "random.seed(0)\n",
    "np.random.seed(0)\n",
    "torch.manual_seed(0)\n",
    "torch.cuda.manual_seed(0)\n",
    "torch.backends.cudnn.deterministic = True"
   ]
  },
  {
   "cell_type": "code",
   "execution_count": 2,
   "id": "28f2b338-f3e1-4161-93cd-49940ead13b4",
   "metadata": {},
   "outputs": [],
   "source": [
    "hostName = \"0.0.0.0\"\n",
    "serverPort = 8080\n",
    "run_thread= None\n",
    "model_file='Weapons.pt'"
   ]
  },
  {
   "cell_type": "code",
   "execution_count": 3,
   "id": "533bbef0-82b4-4a86-b598-de9ea29ad26c",
   "metadata": {},
   "outputs": [],
   "source": [
    "import ipywidgets\n",
    "import traitlets\n",
    "name_widget = ipywidgets.Text(description='model',value=model_file)\n",
    "prediction_widget = ipywidgets.Valid(value=False, description='Predict',)\n",
    "\n",
    "live_execution_widget = ipywidgets.VBox([\n",
    "    name_widget,\n",
    "    prediction_widget\n",
    "])"
   ]
  },
  {
   "cell_type": "code",
   "execution_count": 4,
   "id": "7e1d5986-d8a2-410a-bf42-af51b2c666f6",
   "metadata": {},
   "outputs": [
    {
     "name": "stderr",
     "output_type": "stream",
     "text": [
      "/usr/local/lib/python3.6/dist-packages/torch/serialization.py:604: UserWarning: 'torch.load' received a zip file that looks like a TorchScript archive dispatching to 'torch.jit.load' (call 'torch.jit.load' directly to silence this warning)\n",
      "  \" silence this warning)\", UserWarning)\n"
     ]
    },
    {
     "data": {
      "text/plain": [
       "RecursiveScriptModule(\n",
       "  original_name=Sequential\n",
       "  (0): RecursiveScriptModule(original_name=Linear)\n",
       "  (1): RecursiveScriptModule(original_name=BatchNorm1d)\n",
       "  (2): RecursiveScriptModule(original_name=Dropout1d)\n",
       "  (3): RecursiveScriptModule(original_name=ReLU)\n",
       "  (4): RecursiveScriptModule(original_name=Linear)\n",
       "  (5): RecursiveScriptModule(original_name=BatchNorm1d)\n",
       "  (6): RecursiveScriptModule(original_name=Dropout1d)\n",
       "  (7): RecursiveScriptModule(original_name=ReLU)\n",
       "  (8): RecursiveScriptModule(original_name=Linear)\n",
       ")"
      ]
     },
     "execution_count": 4,
     "metadata": {},
     "output_type": "execute_result"
    }
   ],
   "source": [
    "device = torch.device(\"cuda:0\" if torch.cuda.is_available() else \"cpu\")\n",
    "model = torch.load(model_file)\n",
    "model.eval()"
   ]
  },
  {
   "cell_type": "code",
   "execution_count": 5,
   "id": "f0f0d3a8-75f2-417e-b7ff-089950ff58b1",
   "metadata": {},
   "outputs": [],
   "source": [
    "# model.to(device)"
   ]
  },
  {
   "cell_type": "code",
   "execution_count": 6,
   "id": "d1fbd6d0-dd65-46bc-86c5-20fe7e60d0ab",
   "metadata": {},
   "outputs": [],
   "source": [
    "class MyServer(BaseHTTPRequestHandler):\n",
    "    def do_GET(self):\n",
    "        self.send_response(200)\n",
    "        self.send_header(\"Content-type\", \"text/html\")\n",
    "        self.end_headers()\n",
    "        self.wfile.write(bytes(\"<html><head><title>https://pythonbasics.org</title></head>\", \"utf-8\"))\n",
    "        self.wfile.write(bytes(\"<body>\", \"utf-8\"))\n",
    "        self.wfile.write(bytes(\"<p>This is a body segmentation web server.</p>\", \"utf-8\"))\n",
    "        self.wfile.write(bytes(\"</body></html>\", \"utf-8\"))\n",
    "\n",
    "\n",
    "    def do_POST(self):\n",
    "        length = int(self.headers['Content-Length'])\n",
    "        buffer = self.rfile.read(length)\n",
    "        data=urllib.parse.parse_qs(buffer.decode())\n",
    "        enc = json.loads(data[\"tensor\"][0])\n",
    "        dataType = np.dtype(enc[0])\n",
    "        dataArray = np.frombuffer(base64.decodestring(bytes(enc[1], encoding=\"raw_unicode_escape\")), dataType)\n",
    "        if len(enc) > 2:\n",
    "             dataArray.reshape(enc[2]) \n",
    "        preprocessed=torch.from_numpy(dataArray)\n",
    "        since = time.time()\n",
    "        preprocessed =preprocessed.reshape(1,512)\n",
    "        # print(preprocessed)\n",
    "        output = model(preprocessed)\n",
    "        output = output.detach().cpu() \n",
    "        # print(output)\n",
    "        output = torch.argmax(output, 1)\n",
    "        # print(output)\n",
    "        time_elapsed = time.time() - since\n",
    "        prediction_widget.value= (output.item()==1)\n",
    "        # print(\"{} {}s\".format(str(output.item()),str(time_elapsed)))"
   ]
  },
  {
   "cell_type": "code",
   "execution_count": 7,
   "id": "76fd93a7-8188-459d-a0af-192e81f08e97",
   "metadata": {},
   "outputs": [],
   "source": [
    "# tensor1=torch.ones(512)\n",
    "# print(tensor1)\n",
    "# tensor2=torch.ones(1,512)\n",
    "# print(tensor2)\n",
    "# print(tensor1.reshape(1,512))"
   ]
  },
  {
   "cell_type": "code",
   "execution_count": 8,
   "id": "56f66583-76a6-471d-baee-c4845502413e",
   "metadata": {},
   "outputs": [
    {
     "data": {
      "application/vnd.jupyter.widget-view+json": {
       "model_id": "cac10d5cbf084bd097dc1b4f671cdb5c",
       "version_major": 2,
       "version_minor": 0
      },
      "text/plain": [
       "VBox(children=(Text(value='Weapons.pt', description='model'), Valid(value=False, description='Predict')))"
      ]
     },
     "metadata": {},
     "output_type": "display_data"
    }
   ],
   "source": [
    "display(live_execution_widget)"
   ]
  },
  {
   "cell_type": "code",
   "execution_count": 9,
   "id": "0a8b8db2-6a28-4bc7-9708-0308b0b0140a",
   "metadata": {},
   "outputs": [
    {
     "name": "stdout",
     "output_type": "stream",
     "text": [
      "Server started http://0.0.0.0:8080\n"
     ]
    },
    {
     "name": "stderr",
     "output_type": "stream",
     "text": [
      "/usr/local/lib/python3.6/dist-packages/ipykernel_launcher.py:18: DeprecationWarning: decodestring() is a deprecated alias since Python 3.1, use decodebytes()\n",
      "/usr/local/lib/python3.6/dist-packages/ipykernel_launcher.py:21: UserWarning: The given NumPy array is not writeable, and PyTorch does not support non-writeable tensors. This means you can write to the underlying (supposedly non-writeable) NumPy array using the tensor. You may want to copy the array to protect its data or make it writeable before converting it to a tensor. This type of warning will be suppressed for the rest of this program. (Triggered internally at  /media/nvidia/NVME/pytorch/pytorch-v1.10.0/torch/csrc/utils/tensor_numpy.cpp:189.)\n"
     ]
    }
   ],
   "source": [
    "webServer = HTTPServer((hostName, serverPort), MyServer)\n",
    "print(\"Server started http://%s:%s\" % (hostName, serverPort))\n",
    "\n",
    "try:\n",
    "    webServer.serve_forever()\n",
    "except KeyboardInterrupt:\n",
    "    pass\n"
   ]
  },
  {
   "cell_type": "code",
   "execution_count": 10,
   "id": "88ec12d5-f306-42d7-b570-1043f8b51f2f",
   "metadata": {},
   "outputs": [],
   "source": [
    "webServer.server_close()"
   ]
  },
  {
   "cell_type": "code",
   "execution_count": null,
   "id": "9fb52a8a-fee8-4295-a818-683b929167c6",
   "metadata": {},
   "outputs": [],
   "source": []
  },
  {
   "cell_type": "code",
   "execution_count": null,
   "id": "70f243fa-9966-45ec-9f48-ac400a6bb8dc",
   "metadata": {},
   "outputs": [],
   "source": []
  },
  {
   "cell_type": "code",
   "execution_count": null,
   "id": "80c4f37b-56dc-4fbe-9bd8-335430b80b2f",
   "metadata": {},
   "outputs": [],
   "source": []
  }
 ],
 "metadata": {
  "kernelspec": {
   "display_name": "Python 3",
   "language": "python",
   "name": "python3"
  },
  "language_info": {
   "codemirror_mode": {
    "name": "ipython",
    "version": 3
   },
   "file_extension": ".py",
   "mimetype": "text/x-python",
   "name": "python",
   "nbconvert_exporter": "python",
   "pygments_lexer": "ipython3",
   "version": "3.6.9"
  }
 },
 "nbformat": 4,
 "nbformat_minor": 5
}
